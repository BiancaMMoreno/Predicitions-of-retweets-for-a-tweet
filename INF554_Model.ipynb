{
  "nbformat": 4,
  "nbformat_minor": 0,
  "metadata": {
    "colab": {
      "name": "INF554_Model.ipynb",
      "provenance": [],
      "collapsed_sections": []
    },
    "kernelspec": {
      "name": "python3",
      "display_name": "Python 3"
    }
  },
  "cells": [
    {
      "cell_type": "code",
      "metadata": {
        "id": "eVNEQ5jUloQO",
        "colab": {
          "base_uri": "https://localhost:8080/"
        },
        "outputId": "9bb26ccd-09c9-42a0-b2c1-202fb727d362"
      },
      "source": [
        "# Import and save into google drive\n",
        "from google.colab import drive\n",
        "drive.mount('/content/drive')\n",
        "%cd 'drive/My Drive/INF554/project'\n",
        "%ls"
      ],
      "execution_count": null,
      "outputs": [
        {
          "output_type": "stream",
          "text": [
            "Mounted at /content/drive\n",
            "/content/drive/My Drive/INF554/project\n",
            "baseline.py                        prediction_nesima2.txt\n",
            "constant_predictions.txt           prediction_nesima.txt\n",
            "\u001b[0m\u001b[01;34mdata\u001b[0m/                              prediction_NN_60-30-15-5-1_alldataset.txt\n",
            "decisiontree_pca.txt               prediction_NN_60-30-15-5-1.txt\n",
            "dummy_baseline.py                  prediction_NN_alltext.txt\n",
            "hist_age.png                       prediction_NN_batch.txt\n",
            "Log_ROC.png                        prediction_NN_lasthope2.txt\n",
            "mean_predictions.txt               prediction_NN_lasthope3.txt\n",
            "{model_bom}                        prediction_NN_lasthope.txt\n",
            "prediction_decisiontreeall.txt     prediction_NN_urls.txt\n",
            "prediction_decisiontreesimple.txt  prediction_out.txt\n",
            "prediction_decisiontree.txt        twitter\n",
            "prediction_drop_out.txt            twitter.pdf\n",
            "prediction_lasthope2again.txt\n"
          ],
          "name": "stdout"
        }
      ]
    },
    {
      "cell_type": "markdown",
      "metadata": {
        "id": "mtcKIUwF49Rp"
      },
      "source": [
        "# Import Libraries"
      ]
    },
    {
      "cell_type": "code",
      "metadata": {
        "id": "ZiCiA9Yl4wXU"
      },
      "source": [
        "import os\n",
        "import numpy as np\n",
        "import pandas as pd\n",
        "import seaborn as sns\n",
        "from datetime import datetime\n",
        "from datetime import datetime\n",
        "import matplotlib.pyplot as plt\n",
        "from tqdm.notebook import *\n",
        "from collections import Counter\n",
        "import torch\n",
        "import torch.nn.functional as F\n",
        "from torch.utils.data import Dataset, DataLoader\n",
        "import torch.optim.lr_scheduler as lr_scheduler\n",
        "\n",
        "from sklearn.pipeline import Pipeline\n",
        "from sklearn.compose import ColumnTransformer\n",
        "from sklearn.model_selection import train_test_split, RandomizedSearchCV\n",
        "from sklearn.preprocessing import OrdinalEncoder, MinMaxScaler, StandardScaler\n",
        "from sklearn.decomposition import PCA\n",
        "from sklearn.metrics import roc_auc_score, accuracy_score, confusion_matrix, f1_score\n",
        "from sklearn.metrics import classification_report, mean_absolute_error\n",
        "from sklearn.feature_extraction.text import TfidfVectorizer"
      ],
      "execution_count": null,
      "outputs": []
    },
    {
      "cell_type": "markdown",
      "metadata": {
        "id": "nK0eKMbE5Aiw"
      },
      "source": [
        "# Open Dataset\n",
        "\n",
        "Specify here the path to your dataset"
      ]
    },
    {
      "cell_type": "code",
      "metadata": {
        "id": "98VWdf_T43SG"
      },
      "source": [
        " # main path to our dataset\n",
        "data_path = \"data\"\n",
        "train_path = os.path.join(data_path, 'train.csv')\n",
        "eval_path = os.path.join(data_path, 'evaluation.csv')"
      ],
      "execution_count": null,
      "outputs": []
    },
    {
      "cell_type": "code",
      "metadata": {
        "id": "750ZXF5U5ECj"
      },
      "source": [
        "train_df = pd.read_csv(train_path, index_col='id')\n",
        "eval_df = pd.read_csv(eval_path, index_col='id')"
      ],
      "execution_count": null,
      "outputs": []
    },
    {
      "cell_type": "code",
      "metadata": {
        "colab": {
          "base_uri": "https://localhost:8080/",
          "height": 371
        },
        "id": "czPSEC1i5FHx",
        "outputId": "5a3a416a-c68f-4278-b03b-7a1a9b68917f"
      },
      "source": [
        "train_df.head()"
      ],
      "execution_count": null,
      "outputs": [
        {
          "output_type": "execute_result",
          "data": {
            "text/html": [
              "<div>\n",
              "<style scoped>\n",
              "    .dataframe tbody tr th:only-of-type {\n",
              "        vertical-align: middle;\n",
              "    }\n",
              "\n",
              "    .dataframe tbody tr th {\n",
              "        vertical-align: top;\n",
              "    }\n",
              "\n",
              "    .dataframe thead th {\n",
              "        text-align: right;\n",
              "    }\n",
              "</style>\n",
              "<table border=\"1\" class=\"dataframe\">\n",
              "  <thead>\n",
              "    <tr style=\"text-align: right;\">\n",
              "      <th></th>\n",
              "      <th>timestamp</th>\n",
              "      <th>retweet_count</th>\n",
              "      <th>user_verified</th>\n",
              "      <th>user_statuses_count</th>\n",
              "      <th>user_followers_count</th>\n",
              "      <th>user_friends_count</th>\n",
              "      <th>user_mentions</th>\n",
              "      <th>urls</th>\n",
              "      <th>hashtags</th>\n",
              "      <th>text</th>\n",
              "    </tr>\n",
              "    <tr>\n",
              "      <th>id</th>\n",
              "      <th></th>\n",
              "      <th></th>\n",
              "      <th></th>\n",
              "      <th></th>\n",
              "      <th></th>\n",
              "      <th></th>\n",
              "      <th></th>\n",
              "      <th></th>\n",
              "      <th></th>\n",
              "      <th></th>\n",
              "    </tr>\n",
              "  </thead>\n",
              "  <tbody>\n",
              "    <tr>\n",
              "      <th>0</th>\n",
              "      <td>1588696955143</td>\n",
              "      <td>0</td>\n",
              "      <td>False</td>\n",
              "      <td>68460</td>\n",
              "      <td>1101</td>\n",
              "      <td>1226</td>\n",
              "      <td>NaN</td>\n",
              "      <td>NaN</td>\n",
              "      <td>NaN</td>\n",
              "      <td>Smh I give up</td>\n",
              "    </tr>\n",
              "    <tr>\n",
              "      <th>1</th>\n",
              "      <td>1588464948124</td>\n",
              "      <td>0</td>\n",
              "      <td>False</td>\n",
              "      <td>309</td>\n",
              "      <td>51</td>\n",
              "      <td>202</td>\n",
              "      <td>NaN</td>\n",
              "      <td>NaN</td>\n",
              "      <td>NaN</td>\n",
              "      <td>Most of us are Human Beings, but I think you m...</td>\n",
              "    </tr>\n",
              "    <tr>\n",
              "      <th>2</th>\n",
              "      <td>1588634673360</td>\n",
              "      <td>0</td>\n",
              "      <td>False</td>\n",
              "      <td>3241</td>\n",
              "      <td>1675</td>\n",
              "      <td>2325</td>\n",
              "      <td>NaN</td>\n",
              "      <td>NaN</td>\n",
              "      <td>NaN</td>\n",
              "      <td>Old dirty tricks Trump, at it again...like we ...</td>\n",
              "    </tr>\n",
              "    <tr>\n",
              "      <th>3</th>\n",
              "      <td>1588433158672</td>\n",
              "      <td>0</td>\n",
              "      <td>False</td>\n",
              "      <td>32327</td>\n",
              "      <td>667</td>\n",
              "      <td>304</td>\n",
              "      <td>NaN</td>\n",
              "      <td>NaN</td>\n",
              "      <td>NaN</td>\n",
              "      <td>Seriously..... I worked 86 hours my last check...</td>\n",
              "    </tr>\n",
              "    <tr>\n",
              "      <th>4</th>\n",
              "      <td>1588582751599</td>\n",
              "      <td>0</td>\n",
              "      <td>False</td>\n",
              "      <td>581</td>\n",
              "      <td>42</td>\n",
              "      <td>127</td>\n",
              "      <td>NaN</td>\n",
              "      <td>NaN</td>\n",
              "      <td>NaN</td>\n",
              "      <td>May ALMIGHTY ALLAH have mercy on us all. Only ...</td>\n",
              "    </tr>\n",
              "  </tbody>\n",
              "</table>\n",
              "</div>"
            ],
            "text/plain": [
              "        timestamp  ...                                               text\n",
              "id                 ...                                                   \n",
              "0   1588696955143  ...                                      Smh I give up\n",
              "1   1588464948124  ...  Most of us are Human Beings, but I think you m...\n",
              "2   1588634673360  ...  Old dirty tricks Trump, at it again...like we ...\n",
              "3   1588433158672  ...  Seriously..... I worked 86 hours my last check...\n",
              "4   1588582751599  ...  May ALMIGHTY ALLAH have mercy on us all. Only ...\n",
              "\n",
              "[5 rows x 10 columns]"
            ]
          },
          "metadata": {
            "tags": []
          },
          "execution_count": 5
        }
      ]
    },
    {
      "cell_type": "markdown",
      "metadata": {
        "id": "MrgKTyFrmTXH"
      },
      "source": [
        "# Feature selection and extraction"
      ]
    },
    {
      "cell_type": "code",
      "metadata": {
        "id": "AxsH10HrmLxp"
      },
      "source": [
        "# USEFUL FUNCTIONS\n",
        "def count(df, column):\n",
        "  \"\"\"\n",
        "  Count the number of elements in the column. NaN values are considered 0.\n",
        "  \n",
        "  Useful function for count the number of hashtags; links; user mentions\n",
        "  \"\"\"\n",
        "  if column not in df:\n",
        "    raise Exception(\"'{}' column not found in the dataframe\".format(column))\n",
        "  df[column].fillna(\"\", inplace=True)\n",
        "  df[column] = df.apply(lambda x: 0 if x[column] == \"\" else len(x[column].split(\",\")), axis=1)\n",
        "  return df\n",
        "\n",
        "def analyse_text(df_train, df_eval, column, num_PCA):\n",
        "  \"\"\"\n",
        "  Transform text data into numerical feature by using TfidVectorizer with 100 features maximum.\n",
        "  After the feature extraction, we realized that reducing the dimension by performing a PCA\n",
        "  would improve our result, because it reduces the huge amount of noise.\n",
        "\n",
        "  Useful to analyse Hashtags; text\n",
        "  \"\"\"\n",
        "  if column not in df_train:\n",
        "    raise Exception(\"'{}' column not found in the dataframe\".format(column))\n",
        "\n",
        "  df_train[column].fillna(\"\", inplace=True)\n",
        "  df_eval[column].fillna(\"\", inplace=True)\n",
        "\n",
        "  # Feature extraction\n",
        "  vectorizer = TfidfVectorizer(max_features=100, stop_words='english')\n",
        "  vectorizer.fit(df_train[column])\n",
        "  text_train = vectorizer.transform(df_train[column]).toarray()\n",
        "  text_eval = vectorizer.transform(df_eval[column]).toarray()\n",
        "\n",
        "  # PCA\n",
        "  pca = PCA(n_components=num_PCA)\n",
        "  pca.fit(text_train)\n",
        "  text_train = pca.transform(text_train)\n",
        "  text_eval = pca.transform(text_eval)\n",
        "\n",
        "  text_train = pd.DataFrame(text_train, index=df_train.index, columns=[column+\"_{}\".format(i) for i in range(num_PCA)])\n",
        "  text_eval = pd.DataFrame(text_eval, index=df_eval.index, columns=[column+\"_{}\".format(i) for i in range(num_PCA)])\n",
        "\n",
        "  df_train = pd.concat([df_train, text_train], axis=1, join='inner')\n",
        "  df_eval = pd.concat([df_eval, text_eval], axis=1, join='inner')\n",
        "\n",
        "  return df_train, df_eval"
      ],
      "execution_count": null,
      "outputs": []
    },
    {
      "cell_type": "markdown",
      "metadata": {
        "id": "YVFk4Yh55VCD"
      },
      "source": [
        "## timestamp\n",
        "\n",
        "To use the column timestamp, we made the two following transformation.\n",
        "\n",
        "* Get the day of the week that each tweet was posted, after we transform this column into some dummy variables columns.\n",
        "\n",
        "* Get the time interval each tweet was posted in the day (0-1, 1-2, ... 23-24), after we transform this column into some dummy variables columns."
      ]
    },
    {
      "cell_type": "code",
      "metadata": {
        "id": "KFsZB85g5OKI"
      },
      "source": [
        "def transform_timestamp(df):\n",
        "  if 'timestamp' not in df:\n",
        "    raise Exception(\"'timestamp' column not found in the dataframe\")\n",
        "  # we must divide by 1000 to transform into ms\n",
        "  df['time'] = df.apply(lambda x: datetime.fromtimestamp(x['timestamp']/ 1000).hour, axis=1)\n",
        "  df['week_day'] = df.apply(lambda x: datetime.fromtimestamp(x['timestamp']/ 1000).weekday(), axis=1)\n",
        "  new_c = {i: '{} - {}'.format(i, i + 1) for i in range(24)}\n",
        "  dummies = pd.get_dummies(df['time'])\n",
        "  dummies = dummies.rename(columns=new_c)\n",
        "  new_c_day = {i: 'week_day_{}'.format(i) for i in range(7)}\n",
        "  dummies_day = pd.get_dummies(df['week_day'])\n",
        "  dummies_day = dummies_day.rename(columns=new_c_day)\n",
        "  df = df.drop(['timestamp', 'time', 'week_day'], axis=1)\n",
        "  return pd.concat([df, dummies, dummies_day], axis=1, join='inner')\n",
        "\n",
        "train_df = transform_timestamp(train_df)\n",
        "eval_df = transform_timestamp(eval_df)"
      ],
      "execution_count": null,
      "outputs": []
    },
    {
      "cell_type": "markdown",
      "metadata": {
        "id": "BZgJFkS0wqVs"
      },
      "source": [
        "## user_verified\n",
        "\n",
        "We transformed this binary columns into 0 (False) or 1 (True)."
      ]
    },
    {
      "cell_type": "code",
      "metadata": {
        "id": "ePjPyWrSvMs7"
      },
      "source": [
        "def transform_user_verified(df):\n",
        "  if 'user_verified' not in df:\n",
        "    raise Exception(\"'user_verified' column not found in the dataframe\")\n",
        "  df['user_verified'] *= 1\n",
        "  return df\n",
        "  \n",
        "train_df = transform_user_verified(train_df)\n",
        "eval_df = transform_user_verified(eval_df)"
      ],
      "execution_count": null,
      "outputs": []
    },
    {
      "cell_type": "markdown",
      "metadata": {
        "id": "_Fyr3Bgs9lfB"
      },
      "source": [
        "## user_mentions\n",
        "\n",
        "We count the number of user mentions of each tweet."
      ]
    },
    {
      "cell_type": "code",
      "metadata": {
        "id": "NP57qpnB9lEb"
      },
      "source": [
        "train_df = count(train_df, 'user_mentions')\n",
        "eval_df = count(eval_df, 'user_mentions')"
      ],
      "execution_count": null,
      "outputs": []
    },
    {
      "cell_type": "markdown",
      "metadata": {
        "id": "Mb9Wdc0S-6Od"
      },
      "source": [
        "## urls\n",
        "\n",
        "We count the number of urls of each tweet."
      ]
    },
    {
      "cell_type": "code",
      "metadata": {
        "id": "-3PBq2EK-7SR"
      },
      "source": [
        "def transform_urls(df):\n",
        "  if 'urls' not in df:\n",
        "    raise Exception(\"'{}' column not found in the dataframe\".format('urls'))\n",
        "  df[\"urls\"] = df.apply(lambda x: 0 if x[\"urls\"] != x[\"urls\"] else 1, axis=1)\n",
        "  return df\n",
        "  \n",
        "train_df = count(train_df, 'urls')\n",
        "eval_df = count(eval_df, 'urls')"
      ],
      "execution_count": null,
      "outputs": []
    },
    {
      "cell_type": "markdown",
      "metadata": {
        "id": "j62RkfPg_jxI"
      },
      "source": [
        "## hashtags\n",
        "\n",
        "We perform a feature extraction from the hashtags by using TfidVectorizer and applying a PCA with 40 dimensions in order to reduce the noise and its dimension.\n",
        "\n",
        "We also count the number of hashtags of each tweet."
      ]
    },
    {
      "cell_type": "code",
      "metadata": {
        "id": "JCFe3BAr_lGZ"
      },
      "source": [
        "train_df, eval_df = analyse_text(train_df, eval_df, 'hashtags', 40)\n",
        "\n",
        "train_df = count(train_df, 'hashtags')\n",
        "eval_df = count(eval_df, 'hashtags')"
      ],
      "execution_count": null,
      "outputs": []
    },
    {
      "cell_type": "markdown",
      "metadata": {
        "id": "DVAUeJitB8eR"
      },
      "source": [
        "## text\n",
        "\n",
        "As for the Hahstag column, we also perform a feature extraction of the tweet texts using 100 features maximum. After it, we perform a PCA with 66 dimensions in order to reduce its dimension and noise, with 66 dimensions we could keep 80% of its variance."
      ]
    },
    {
      "cell_type": "code",
      "metadata": {
        "id": "RhitYqNRCDqn"
      },
      "source": [
        "train_df, eval_df = analyse_text(train_df, eval_df, 'text', 66)\n",
        "\n",
        "train_df = train_df.drop(['text'], axis=1)\n",
        "eval_df = eval_df.drop(['text'], axis=1)"
      ],
      "execution_count": null,
      "outputs": []
    },
    {
      "cell_type": "markdown",
      "metadata": {
        "id": "rAiE32WUzVuL"
      },
      "source": [
        "# Data Visualization\n",
        "\n",
        "After performing some data transformation, we will perform some data visualization and some data analysis to see which columns are more relevant to our problem, which is predict the total number of retweets. To make it easier to view, we shall create a new column called \"retweet_count_interval\", which will contain the range of how many retweets the tweet has had. \n",
        "\n",
        "This transformation is basically transform our numerical column into some categorical column, as result it will be easier to visualize retweets distribution.\n",
        "\n",
        "The ranges are:\n",
        "\n",
        "- 0: [0, 1[\n",
        "- 1: [1, 10[\n",
        "- 2: [10, 100[\n",
        "- 3: [100, 500[\n",
        "- 4: [500, 1000[\n",
        "- 5: [1000, 5000[\n",
        "- 6: [5000, 10000[\n",
        "- 7: [10000, 50000[\n",
        "- 8: [50000, 100000[\n",
        "- 9: [100000, inf["
      ]
    },
    {
      "cell_type": "code",
      "metadata": {
        "colab": {
          "base_uri": "https://localhost:8080/",
          "height": 256
        },
        "id": "cUCPSZ1xxENa",
        "outputId": "52ab32d0-9b68-4d10-e049-971b462cc560"
      },
      "source": [
        "def numerical_to_categorical(df, column, cat):\n",
        "  if column not in df:\n",
        "    raise Exception(\"'{}' column not found in the dataframe\".format(column))\n",
        "  \n",
        "  df[column+\"_interval\"] = pd.cut(df[column], bins=cat, right=False)\n",
        "  ord_enc = OrdinalEncoder()\n",
        "  df[column+\"_interval\"] = ord_enc.fit_transform(df[[column+\"_interval\"]]).astype(int)\n",
        "  return df\n",
        "\n",
        "train_df = numerical_to_categorical(train_df, \"retweet_count\", np.array([0, 1, 10, 100, 500, 1000, 5000, 10000, 50000, 100000, np.inf]))\n",
        "train_df.head(3)"
      ],
      "execution_count": null,
      "outputs": [
        {
          "output_type": "execute_result",
          "data": {
            "text/html": [
              "<div>\n",
              "<style scoped>\n",
              "    .dataframe tbody tr th:only-of-type {\n",
              "        vertical-align: middle;\n",
              "    }\n",
              "\n",
              "    .dataframe tbody tr th {\n",
              "        vertical-align: top;\n",
              "    }\n",
              "\n",
              "    .dataframe thead th {\n",
              "        text-align: right;\n",
              "    }\n",
              "</style>\n",
              "<table border=\"1\" class=\"dataframe\">\n",
              "  <thead>\n",
              "    <tr style=\"text-align: right;\">\n",
              "      <th></th>\n",
              "      <th>retweet_count</th>\n",
              "      <th>user_verified</th>\n",
              "      <th>user_statuses_count</th>\n",
              "      <th>user_followers_count</th>\n",
              "      <th>user_friends_count</th>\n",
              "      <th>user_mentions</th>\n",
              "      <th>urls</th>\n",
              "      <th>hashtags</th>\n",
              "      <th>0 - 1</th>\n",
              "      <th>1 - 2</th>\n",
              "      <th>2 - 3</th>\n",
              "      <th>3 - 4</th>\n",
              "      <th>4 - 5</th>\n",
              "      <th>5 - 6</th>\n",
              "      <th>6 - 7</th>\n",
              "      <th>7 - 8</th>\n",
              "      <th>8 - 9</th>\n",
              "      <th>9 - 10</th>\n",
              "      <th>10 - 11</th>\n",
              "      <th>11 - 12</th>\n",
              "      <th>12 - 13</th>\n",
              "      <th>13 - 14</th>\n",
              "      <th>14 - 15</th>\n",
              "      <th>15 - 16</th>\n",
              "      <th>16 - 17</th>\n",
              "      <th>17 - 18</th>\n",
              "      <th>18 - 19</th>\n",
              "      <th>19 - 20</th>\n",
              "      <th>20 - 21</th>\n",
              "      <th>21 - 22</th>\n",
              "      <th>22 - 23</th>\n",
              "      <th>23 - 24</th>\n",
              "      <th>week_day_0</th>\n",
              "      <th>week_day_1</th>\n",
              "      <th>week_day_3</th>\n",
              "      <th>week_day_4</th>\n",
              "      <th>week_day_5</th>\n",
              "      <th>week_day_6</th>\n",
              "      <th>hashtags_0</th>\n",
              "      <th>hashtags_1</th>\n",
              "      <th>...</th>\n",
              "      <th>text_27</th>\n",
              "      <th>text_28</th>\n",
              "      <th>text_29</th>\n",
              "      <th>text_30</th>\n",
              "      <th>text_31</th>\n",
              "      <th>text_32</th>\n",
              "      <th>text_33</th>\n",
              "      <th>text_34</th>\n",
              "      <th>text_35</th>\n",
              "      <th>text_36</th>\n",
              "      <th>text_37</th>\n",
              "      <th>text_38</th>\n",
              "      <th>text_39</th>\n",
              "      <th>text_40</th>\n",
              "      <th>text_41</th>\n",
              "      <th>text_42</th>\n",
              "      <th>text_43</th>\n",
              "      <th>text_44</th>\n",
              "      <th>text_45</th>\n",
              "      <th>text_46</th>\n",
              "      <th>text_47</th>\n",
              "      <th>text_48</th>\n",
              "      <th>text_49</th>\n",
              "      <th>text_50</th>\n",
              "      <th>text_51</th>\n",
              "      <th>text_52</th>\n",
              "      <th>text_53</th>\n",
              "      <th>text_54</th>\n",
              "      <th>text_55</th>\n",
              "      <th>text_56</th>\n",
              "      <th>text_57</th>\n",
              "      <th>text_58</th>\n",
              "      <th>text_59</th>\n",
              "      <th>text_60</th>\n",
              "      <th>text_61</th>\n",
              "      <th>text_62</th>\n",
              "      <th>text_63</th>\n",
              "      <th>text_64</th>\n",
              "      <th>text_65</th>\n",
              "      <th>retweet_count_interval</th>\n",
              "    </tr>\n",
              "    <tr>\n",
              "      <th>id</th>\n",
              "      <th></th>\n",
              "      <th></th>\n",
              "      <th></th>\n",
              "      <th></th>\n",
              "      <th></th>\n",
              "      <th></th>\n",
              "      <th></th>\n",
              "      <th></th>\n",
              "      <th></th>\n",
              "      <th></th>\n",
              "      <th></th>\n",
              "      <th></th>\n",
              "      <th></th>\n",
              "      <th></th>\n",
              "      <th></th>\n",
              "      <th></th>\n",
              "      <th></th>\n",
              "      <th></th>\n",
              "      <th></th>\n",
              "      <th></th>\n",
              "      <th></th>\n",
              "      <th></th>\n",
              "      <th></th>\n",
              "      <th></th>\n",
              "      <th></th>\n",
              "      <th></th>\n",
              "      <th></th>\n",
              "      <th></th>\n",
              "      <th></th>\n",
              "      <th></th>\n",
              "      <th></th>\n",
              "      <th></th>\n",
              "      <th></th>\n",
              "      <th></th>\n",
              "      <th></th>\n",
              "      <th></th>\n",
              "      <th></th>\n",
              "      <th></th>\n",
              "      <th></th>\n",
              "      <th></th>\n",
              "      <th></th>\n",
              "      <th></th>\n",
              "      <th></th>\n",
              "      <th></th>\n",
              "      <th></th>\n",
              "      <th></th>\n",
              "      <th></th>\n",
              "      <th></th>\n",
              "      <th></th>\n",
              "      <th></th>\n",
              "      <th></th>\n",
              "      <th></th>\n",
              "      <th></th>\n",
              "      <th></th>\n",
              "      <th></th>\n",
              "      <th></th>\n",
              "      <th></th>\n",
              "      <th></th>\n",
              "      <th></th>\n",
              "      <th></th>\n",
              "      <th></th>\n",
              "      <th></th>\n",
              "      <th></th>\n",
              "      <th></th>\n",
              "      <th></th>\n",
              "      <th></th>\n",
              "      <th></th>\n",
              "      <th></th>\n",
              "      <th></th>\n",
              "      <th></th>\n",
              "      <th></th>\n",
              "      <th></th>\n",
              "      <th></th>\n",
              "      <th></th>\n",
              "      <th></th>\n",
              "      <th></th>\n",
              "      <th></th>\n",
              "      <th></th>\n",
              "      <th></th>\n",
              "      <th></th>\n",
              "      <th></th>\n",
              "    </tr>\n",
              "  </thead>\n",
              "  <tbody>\n",
              "    <tr>\n",
              "      <th>0</th>\n",
              "      <td>0</td>\n",
              "      <td>0</td>\n",
              "      <td>68460</td>\n",
              "      <td>1101</td>\n",
              "      <td>1226</td>\n",
              "      <td>0</td>\n",
              "      <td>0</td>\n",
              "      <td>0</td>\n",
              "      <td>0</td>\n",
              "      <td>0</td>\n",
              "      <td>0</td>\n",
              "      <td>0</td>\n",
              "      <td>0</td>\n",
              "      <td>0</td>\n",
              "      <td>0</td>\n",
              "      <td>0</td>\n",
              "      <td>0</td>\n",
              "      <td>0</td>\n",
              "      <td>0</td>\n",
              "      <td>0</td>\n",
              "      <td>0</td>\n",
              "      <td>0</td>\n",
              "      <td>0</td>\n",
              "      <td>0</td>\n",
              "      <td>1</td>\n",
              "      <td>0</td>\n",
              "      <td>0</td>\n",
              "      <td>0</td>\n",
              "      <td>0</td>\n",
              "      <td>0</td>\n",
              "      <td>0</td>\n",
              "      <td>0</td>\n",
              "      <td>0</td>\n",
              "      <td>1</td>\n",
              "      <td>0</td>\n",
              "      <td>0</td>\n",
              "      <td>0</td>\n",
              "      <td>0</td>\n",
              "      <td>-0.040354</td>\n",
              "      <td>-0.014785</td>\n",
              "      <td>...</td>\n",
              "      <td>-0.011753</td>\n",
              "      <td>-0.011375</td>\n",
              "      <td>-0.008842</td>\n",
              "      <td>-0.009958</td>\n",
              "      <td>-0.008726</td>\n",
              "      <td>-0.005279</td>\n",
              "      <td>-0.013317</td>\n",
              "      <td>-0.011077</td>\n",
              "      <td>-0.005578</td>\n",
              "      <td>-0.012113</td>\n",
              "      <td>-0.001622</td>\n",
              "      <td>-0.005128</td>\n",
              "      <td>-0.002018</td>\n",
              "      <td>-0.012413</td>\n",
              "      <td>-0.007426</td>\n",
              "      <td>-0.004699</td>\n",
              "      <td>0.000793</td>\n",
              "      <td>-0.002177</td>\n",
              "      <td>-0.003072</td>\n",
              "      <td>-0.006293</td>\n",
              "      <td>-0.000257</td>\n",
              "      <td>-0.020515</td>\n",
              "      <td>0.003980</td>\n",
              "      <td>-0.016606</td>\n",
              "      <td>-0.011038</td>\n",
              "      <td>-0.016869</td>\n",
              "      <td>-0.003230</td>\n",
              "      <td>0.006180</td>\n",
              "      <td>-0.000136</td>\n",
              "      <td>0.010043</td>\n",
              "      <td>0.005338</td>\n",
              "      <td>0.002906</td>\n",
              "      <td>-0.017457</td>\n",
              "      <td>0.002959</td>\n",
              "      <td>-0.009677</td>\n",
              "      <td>-0.025693</td>\n",
              "      <td>-0.008289</td>\n",
              "      <td>0.011753</td>\n",
              "      <td>0.004606</td>\n",
              "      <td>0</td>\n",
              "    </tr>\n",
              "    <tr>\n",
              "      <th>1</th>\n",
              "      <td>0</td>\n",
              "      <td>0</td>\n",
              "      <td>309</td>\n",
              "      <td>51</td>\n",
              "      <td>202</td>\n",
              "      <td>0</td>\n",
              "      <td>0</td>\n",
              "      <td>0</td>\n",
              "      <td>1</td>\n",
              "      <td>0</td>\n",
              "      <td>0</td>\n",
              "      <td>0</td>\n",
              "      <td>0</td>\n",
              "      <td>0</td>\n",
              "      <td>0</td>\n",
              "      <td>0</td>\n",
              "      <td>0</td>\n",
              "      <td>0</td>\n",
              "      <td>0</td>\n",
              "      <td>0</td>\n",
              "      <td>0</td>\n",
              "      <td>0</td>\n",
              "      <td>0</td>\n",
              "      <td>0</td>\n",
              "      <td>0</td>\n",
              "      <td>0</td>\n",
              "      <td>0</td>\n",
              "      <td>0</td>\n",
              "      <td>0</td>\n",
              "      <td>0</td>\n",
              "      <td>0</td>\n",
              "      <td>0</td>\n",
              "      <td>0</td>\n",
              "      <td>0</td>\n",
              "      <td>0</td>\n",
              "      <td>0</td>\n",
              "      <td>0</td>\n",
              "      <td>1</td>\n",
              "      <td>-0.040354</td>\n",
              "      <td>-0.014785</td>\n",
              "      <td>...</td>\n",
              "      <td>-0.082433</td>\n",
              "      <td>-0.135507</td>\n",
              "      <td>0.006879</td>\n",
              "      <td>-0.224659</td>\n",
              "      <td>-0.161147</td>\n",
              "      <td>0.836368</td>\n",
              "      <td>0.299573</td>\n",
              "      <td>0.157662</td>\n",
              "      <td>0.054069</td>\n",
              "      <td>0.144431</td>\n",
              "      <td>0.049991</td>\n",
              "      <td>0.035874</td>\n",
              "      <td>0.022680</td>\n",
              "      <td>-0.068374</td>\n",
              "      <td>0.025596</td>\n",
              "      <td>-0.000134</td>\n",
              "      <td>-0.008212</td>\n",
              "      <td>0.010175</td>\n",
              "      <td>-0.023564</td>\n",
              "      <td>0.024464</td>\n",
              "      <td>0.026747</td>\n",
              "      <td>-0.003071</td>\n",
              "      <td>-0.001869</td>\n",
              "      <td>0.000309</td>\n",
              "      <td>0.013244</td>\n",
              "      <td>0.021462</td>\n",
              "      <td>0.001149</td>\n",
              "      <td>0.000445</td>\n",
              "      <td>-0.004269</td>\n",
              "      <td>-0.005551</td>\n",
              "      <td>-0.004878</td>\n",
              "      <td>0.014789</td>\n",
              "      <td>-0.020960</td>\n",
              "      <td>-0.011964</td>\n",
              "      <td>-0.000856</td>\n",
              "      <td>-0.001897</td>\n",
              "      <td>-0.007701</td>\n",
              "      <td>-0.003036</td>\n",
              "      <td>-0.016527</td>\n",
              "      <td>0</td>\n",
              "    </tr>\n",
              "    <tr>\n",
              "      <th>2</th>\n",
              "      <td>0</td>\n",
              "      <td>0</td>\n",
              "      <td>3241</td>\n",
              "      <td>1675</td>\n",
              "      <td>2325</td>\n",
              "      <td>0</td>\n",
              "      <td>0</td>\n",
              "      <td>0</td>\n",
              "      <td>0</td>\n",
              "      <td>0</td>\n",
              "      <td>0</td>\n",
              "      <td>0</td>\n",
              "      <td>0</td>\n",
              "      <td>0</td>\n",
              "      <td>0</td>\n",
              "      <td>0</td>\n",
              "      <td>0</td>\n",
              "      <td>0</td>\n",
              "      <td>0</td>\n",
              "      <td>0</td>\n",
              "      <td>0</td>\n",
              "      <td>0</td>\n",
              "      <td>0</td>\n",
              "      <td>0</td>\n",
              "      <td>0</td>\n",
              "      <td>0</td>\n",
              "      <td>0</td>\n",
              "      <td>0</td>\n",
              "      <td>0</td>\n",
              "      <td>0</td>\n",
              "      <td>0</td>\n",
              "      <td>1</td>\n",
              "      <td>1</td>\n",
              "      <td>0</td>\n",
              "      <td>0</td>\n",
              "      <td>0</td>\n",
              "      <td>0</td>\n",
              "      <td>0</td>\n",
              "      <td>-0.040354</td>\n",
              "      <td>-0.014785</td>\n",
              "      <td>...</td>\n",
              "      <td>-0.073696</td>\n",
              "      <td>0.026640</td>\n",
              "      <td>-0.035850</td>\n",
              "      <td>0.007268</td>\n",
              "      <td>0.003318</td>\n",
              "      <td>-0.040196</td>\n",
              "      <td>-0.021021</td>\n",
              "      <td>-0.014144</td>\n",
              "      <td>-0.011634</td>\n",
              "      <td>0.010115</td>\n",
              "      <td>0.038298</td>\n",
              "      <td>-0.039465</td>\n",
              "      <td>-0.080425</td>\n",
              "      <td>0.108553</td>\n",
              "      <td>0.011131</td>\n",
              "      <td>0.342936</td>\n",
              "      <td>0.095702</td>\n",
              "      <td>0.220696</td>\n",
              "      <td>-0.073659</td>\n",
              "      <td>0.153451</td>\n",
              "      <td>0.054673</td>\n",
              "      <td>0.026222</td>\n",
              "      <td>-0.041053</td>\n",
              "      <td>0.028731</td>\n",
              "      <td>0.022299</td>\n",
              "      <td>0.032932</td>\n",
              "      <td>0.025551</td>\n",
              "      <td>-0.010636</td>\n",
              "      <td>-0.000365</td>\n",
              "      <td>-0.006856</td>\n",
              "      <td>-0.009531</td>\n",
              "      <td>-0.004451</td>\n",
              "      <td>-0.016312</td>\n",
              "      <td>-0.018458</td>\n",
              "      <td>0.002321</td>\n",
              "      <td>0.012507</td>\n",
              "      <td>-0.014491</td>\n",
              "      <td>-0.001377</td>\n",
              "      <td>-0.026051</td>\n",
              "      <td>0</td>\n",
              "    </tr>\n",
              "  </tbody>\n",
              "</table>\n",
              "<p>3 rows × 145 columns</p>\n",
              "</div>"
            ],
            "text/plain": [
              "    retweet_count  user_verified  ...   text_65  retweet_count_interval\n",
              "id                                ...                                  \n",
              "0               0              0  ...  0.004606                       0\n",
              "1               0              0  ... -0.016527                       0\n",
              "2               0              0  ... -0.026051                       0\n",
              "\n",
              "[3 rows x 145 columns]"
            ]
          },
          "metadata": {
            "tags": []
          },
          "execution_count": 13
        }
      ]
    },
    {
      "cell_type": "code",
      "metadata": {
        "colab": {
          "base_uri": "https://localhost:8080/",
          "height": 301
        },
        "id": "g9f9exkV2bGa",
        "outputId": "24792052-041f-46b3-8a03-e1999cee9cf9"
      },
      "source": [
        "sns.set(style=\"white\")\n",
        "sns.set(style=\"whitegrid\", color_codes=True)\n",
        "# Histogram with number of individuals on each category\n",
        "sns.countplot(x='retweet_count_interval',data=train_df,palette='hls')\n",
        "plt.title(\"Number of retweet_count_interval\")\n",
        "plt.show()"
      ],
      "execution_count": null,
      "outputs": [
        {
          "output_type": "display_data",
          "data": {
            "image/png": "[encoded data removed]",
            "text/plain": [
              "<Figure size 432x288 with 1 Axes>"
            ]
          },
          "metadata": {
            "tags": []
          }
        }
      ]
    },
    {
      "cell_type": "markdown",
      "metadata": {
        "id": "fanHNSpw2Cw5"
      },
      "source": [
        "Now, we will perform a group by the retweet_count_interval, and we will take the means values of all other columns."
      ]
    },
    {
      "cell_type": "code",
      "metadata": {
        "id": "51Mico0N19NE"
      },
      "source": [
        "df_group_cat = train_df.groupby('retweet_count_interval').mean()"
      ],
      "execution_count": null,
      "outputs": []
    },
    {
      "cell_type": "markdown",
      "metadata": {
        "id": "-M2mVOte266s"
      },
      "source": [
        "## timestamp visualization"
      ]
    },
    {
      "cell_type": "markdown",
      "metadata": {
        "id": "EW7mBM2JKgB1"
      },
      "source": [
        "First, we visualize week_day variable to see if it is an important variable."
      ]
    },
    {
      "cell_type": "code",
      "metadata": {
        "colab": {
          "base_uri": "https://localhost:8080/"
        },
        "id": "uZkjlNjz18kI",
        "outputId": "cae426e7-683e-471c-bac9-412ee4f5cd23"
      },
      "source": [
        "# DAY OF WEEK\n",
        "cols = ['week_day_0', 'week_day_1',\t'week_day_3',\t'week_day_4',\t'week_day_5', 'week_day_6']\n",
        "cols.append('retweet_count_interval')\n",
        "timestamp_vis = train_df[cols]\n",
        "timestamp_vis['week_day'] = timestamp_vis[['week_day_0', 'week_day_1',\t'week_day_3',\t'week_day_4',\t'week_day_5', 'week_day_6']].eq(1).idxmax(axis=1)\n",
        "timestamp_vis.drop(columns=['week_day_0', 'week_day_1',\t'week_day_3',\t'week_day_4',\t'week_day_5', 'week_day_6'], inplace=True)"
      ],
      "execution_count": null,
      "outputs": [
        {
          "output_type": "stream",
          "text": [
            "/usr/local/lib/python3.6/dist-packages/ipykernel_launcher.py:5: SettingWithCopyWarning: \n",
            "A value is trying to be set on a copy of a slice from a DataFrame.\n",
            "Try using .loc[row_indexer,col_indexer] = value instead\n",
            "\n",
            "See the caveats in the documentation: https://pandas.pydata.org/pandas-docs/stable/user_guide/indexing.html#returning-a-view-versus-a-copy\n",
            "  \"\"\"\n",
            "/usr/local/lib/python3.6/dist-packages/pandas/core/frame.py:4174: SettingWithCopyWarning: \n",
            "A value is trying to be set on a copy of a slice from a DataFrame\n",
            "\n",
            "See the caveats in the documentation: https://pandas.pydata.org/pandas-docs/stable/user_guide/indexing.html#returning-a-view-versus-a-copy\n",
            "  errors=errors,\n"
          ],
          "name": "stderr"
        }
      ]
    },
    {
      "cell_type": "code",
      "metadata": {
        "colab": {
          "base_uri": "https://localhost:8080/",
          "height": 713
        },
        "id": "Px8TkPf1GBli",
        "outputId": "8c0859b0-a4aa-4c73-f6df-2af458296757"
      },
      "source": [
        "g = sns.catplot(x='retweet_count_interval', hue='week_day', kind=\"count\", data=timestamp_vis)\n",
        "g.fig.set_size_inches(20,10)\n",
        "plt.title(\"Week day count\")\n",
        "plt.ylabel(\"Number of tweets\")\n",
        "plt.xlabel(\"retweet interval\")\n",
        "plt.show()"
      ],
      "execution_count": null,
      "outputs": [
        {
          "output_type": "display_data",
          "data": {
            "image/png": "[encoded data removed]",
            "text/plain": [
              "<Figure size 1440x720 with 1 Axes>"
            ]
          },
          "metadata": {
            "tags": []
          }
        }
      ]
    },
    {
      "cell_type": "markdown",
      "metadata": {
        "id": "dI_k39p6Km5x"
      },
      "source": [
        "As we can see from the visualization, the retweet_count_interval count changes when we change the day. So it is an important feature, and we will use it in our model. Now, we will visualize the inteval time of the day when the tweet was posted to see if there is a relation between it and the number of retweets."
      ]
    },
    {
      "cell_type": "code",
      "metadata": {
        "id": "HlYRN89RLCiA",
        "colab": {
          "base_uri": "https://localhost:8080/"
        },
        "outputId": "362ae0f0-de9c-4dbe-98d1-8d43e83a28f8"
      },
      "source": [
        "# TIME\n",
        "cols = ['{} - {}'.format(i, i + 1) for i in range(24)]\n",
        "cols.append('retweet_count_interval')\n",
        "timestamp_vis = train_df[cols]\n",
        "timestamp_vis['time'] = timestamp_vis[['{} - {}'.format(i, i + 1) for i in range(24)]].eq(1).idxmax(axis=1)\n",
        "timestamp_vis.drop(columns=['{} - {}'.format(i, i + 1) for i in range(24)], inplace=True)"
      ],
      "execution_count": null,
      "outputs": [
        {
          "output_type": "stream",
          "text": [
            "/usr/local/lib/python3.6/dist-packages/ipykernel_launcher.py:5: SettingWithCopyWarning: \n",
            "A value is trying to be set on a copy of a slice from a DataFrame.\n",
            "Try using .loc[row_indexer,col_indexer] = value instead\n",
            "\n",
            "See the caveats in the documentation: https://pandas.pydata.org/pandas-docs/stable/user_guide/indexing.html#returning-a-view-versus-a-copy\n",
            "  \"\"\"\n",
            "/usr/local/lib/python3.6/dist-packages/pandas/core/frame.py:4174: SettingWithCopyWarning: \n",
            "A value is trying to be set on a copy of a slice from a DataFrame\n",
            "\n",
            "See the caveats in the documentation: https://pandas.pydata.org/pandas-docs/stable/user_guide/indexing.html#returning-a-view-versus-a-copy\n",
            "  errors=errors,\n"
          ],
          "name": "stderr"
        }
      ]
    },
    {
      "cell_type": "code",
      "metadata": {
        "colab": {
          "base_uri": "https://localhost:8080/",
          "height": 713
        },
        "id": "tqRZu29pL9Yl",
        "outputId": "516bcf67-f2d6-435b-d8aa-fca352bffdb0"
      },
      "source": [
        "g = sns.catplot(x='retweet_count_interval', hue='time', kind=\"count\", data=timestamp_vis)\n",
        "g.fig.set_size_inches(20,10)\n",
        "plt.title(\"Interval time count\")\n",
        "plt.ylabel(\"Number of tweets\")\n",
        "plt.xlabel(\"retweet interval\")\n",
        "plt.show()"
      ],
      "execution_count": null,
      "outputs": [
        {
          "output_type": "display_data",
          "data": {
            "image/png": "[encoded data removed]",
            "text/plain": [
              "<Figure size 1440x720 with 1 Axes>"
            ]
          },
          "metadata": {
            "tags": []
          }
        }
      ]
    },
    {
      "cell_type": "markdown",
      "metadata": {
        "id": "qxQzzUAgMNLz"
      },
      "source": [
        "This transformation adds a lot of noise to our dataset, because as we can see from the visualization, it does not really affect the number of retweets. We tried our model with and without this feature, and we increased our results by removing it."
      ]
    },
    {
      "cell_type": "markdown",
      "metadata": {
        "id": "QZHjGeGK28xR"
      },
      "source": [
        "## user_followers_count visualization"
      ]
    },
    {
      "cell_type": "code",
      "metadata": {
        "colab": {
          "base_uri": "https://localhost:8080/",
          "height": 757
        },
        "id": "qGAyk0AZ28xS",
        "outputId": "3ebe5142-b859-49b2-ce68-c78aa15b8f6f"
      },
      "source": [
        "sns.catplot(x=\"retweet_count_interval\", y=\"user_followers_count\", data=train_df)\n",
        "plt.title(\"retweet interval and followers\")\n",
        "plt.ylabel(\"Number of followers\")\n",
        "plt.xlabel(\"retweet interval\")\n",
        "plt.show()\n",
        "\n",
        "sns.catplot(x=[0,1,2,3,4,5,6,7,8,9], y=\"user_followers_count\", kind=\"bar\", data=df_group_cat)\n",
        "plt.title(\"Average number of followers par interval\")\n",
        "plt.ylabel(\"Average number of followers\")\n",
        "plt.xlabel(\"retweet interval\")\n",
        "plt.show()"
      ],
      "execution_count": null,
      "outputs": [
        {
          "output_type": "display_data",
          "data": {
            "image/png": "[encoded data removed]",
            "text/plain": [
              "<Figure size 360x360 with 1 Axes>"
            ]
          },
          "metadata": {
            "tags": []
          }
        },
        {
          "output_type": "display_data",
          "data": {
            "image/png": "[encoded data removed]",
            "text/plain": [
              "<Figure size 360x360 with 1 Axes>"
            ]
          },
          "metadata": {
            "tags": []
          }
        }
      ]
    },
    {
      "cell_type": "markdown",
      "metadata": {
        "id": "nPSv441j5qVW"
      },
      "source": [
        "As we can see from the visualization, tweets made by people with a high number of followers tend to have a greater repercussion than those made by people who have no follower, showing that there is a correlation between those two parameters."
      ]
    },
    {
      "cell_type": "markdown",
      "metadata": {
        "id": "kdJ0okqB281v"
      },
      "source": [
        "## user_statuses_count visualization"
      ]
    },
    {
      "cell_type": "code",
      "metadata": {
        "colab": {
          "base_uri": "https://localhost:8080/",
          "height": 768
        },
        "id": "rbnWWpBC281w",
        "outputId": "fef6ecf3-2ba6-4846-835b-b3bf13584d13"
      },
      "source": [
        "sns.catplot(x=\"retweet_count_interval\", y=\"user_statuses_count\", data=train_df)\n",
        "plt.title(\"retweet interval and statuses count\")\n",
        "plt.ylabel(\"Statuses count\")\n",
        "plt.xlabel(\"retweet interval\")\n",
        "plt.show()\n",
        "\n",
        "sns.catplot(x=[0,1,2,3,4,5,6,7,8,9], y=\"user_statuses_count\", kind=\"bar\", data=df_group_cat)\n",
        "plt.title(\"Average number of statuses par interval\")\n",
        "plt.ylabel(\"Average statuses count\")\n",
        "plt.xlabel(\"retweet interval\")\n",
        "plt.show()"
      ],
      "execution_count": null,
      "outputs": [
        {
          "output_type": "display_data",
          "data": {
            "image/png": "[encoded data removed]",
            "text/plain": [
              "<Figure size 360x360 with 1 Axes>"
            ]
          },
          "metadata": {
            "tags": []
          }
        },
        {
          "output_type": "display_data",
          "data": {
            "image/png": "[encoded data removed]",
            "text/plain": [
              "<Figure size 360x360 with 1 Axes>"
            ]
          },
          "metadata": {
            "tags": []
          }
        }
      ]
    },
    {
      "cell_type": "markdown",
      "metadata": {
        "id": "WkhG0KB96m1d"
      },
      "source": [
        "As we can see from the visualization, apart from the outliers that harm the average for each interval, there is a small correlation between the number of statuses count in relation. We noticed that removing these outliers or this column reduce the quality of our model, so we left this column intact."
      ]
    },
    {
      "cell_type": "markdown",
      "metadata": {
        "id": "HnOKIHMb284n"
      },
      "source": [
        "## user_friends_count visualization"
      ]
    },
    {
      "cell_type": "code",
      "metadata": {
        "colab": {
          "base_uri": "https://localhost:8080/",
          "height": 768
        },
        "id": "EDoSD8FA284n",
        "outputId": "1b71b76a-3715-4ab9-95bf-7434fe06326f"
      },
      "source": [
        "sns.catplot(x=\"retweet_count_interval\", y=\"user_friends_count\", data=train_df)\n",
        "plt.title(\"retweet interval and friends count\")\n",
        "plt.ylabel(\"friends count\")\n",
        "plt.xlabel(\"retweet interval\")\n",
        "plt.show()\n",
        "\n",
        "sns.catplot(x=[0,1,2,3,4,5,6,7,8,9], y=\"user_friends_count\", kind=\"bar\", data=df_group_cat)\n",
        "plt.title(\"Average number of friends par interval\")\n",
        "plt.ylabel(\"Average friends count\")\n",
        "plt.xlabel(\"retweet interval\")\n",
        "plt.show()"
      ],
      "execution_count": null,
      "outputs": [
        {
          "output_type": "display_data",
          "data": {
            "image/png": "[encoded data removed]",
            "text/plain": [
              "<Figure size 360x360 with 1 Axes>"
            ]
          },
          "metadata": {
            "tags": []
          }
        },
        {
          "output_type": "display_data",
          "data": {
            "image/png": "[encoded data removed]",
            "text/plain": [
              "<Figure size 360x360 with 1 Axes>"
            ]
          },
          "metadata": {
            "tags": []
          }
        }
      ]
    },
    {
      "cell_type": "markdown",
      "metadata": {
        "id": "m0VJMWAN96LY"
      },
      "source": [
        "Really similar to the statuses_count. A small correlation between number of friends and the number of frieds. We noticed that if we remove outliers, our results get worse, so we also left this column intact."
      ]
    },
    {
      "cell_type": "markdown",
      "metadata": {
        "id": "rjYempaG3MsT"
      },
      "source": [
        "## user_mentions visualization"
      ]
    },
    {
      "cell_type": "code",
      "metadata": {
        "colab": {
          "base_uri": "https://localhost:8080/",
          "height": 779
        },
        "id": "B9TQMKNe3MsU",
        "outputId": "c30eff39-2747-4c26-a7d1-53b1629cd917"
      },
      "source": [
        "sns.catplot(x=\"retweet_count_interval\", y=\"user_mentions\", data=train_df)\n",
        "plt.title(\"retweet interval and user mentions count\")\n",
        "plt.ylabel(\"user mentions count\")\n",
        "plt.xlabel(\"retweet interval\")\n",
        "plt.show()\n",
        "\n",
        "sns.catplot(x=[0,1,2,3,4,5,6,7,8,9], y=\"user_mentions\", kind=\"bar\", data=df_group_cat)\n",
        "plt.title(\"Average number of user mentions par interval\")\n",
        "plt.ylabel(\"Average user mentions count\")\n",
        "plt.xlabel(\"retweet interval\")\n",
        "plt.show()"
      ],
      "execution_count": null,
      "outputs": [
        {
          "output_type": "display_data",
          "data": {
            "image/png": "[encoded data removed]",
            "text/plain": [
              "<Figure size 360x360 with 1 Axes>"
            ]
          },
          "metadata": {
            "tags": []
          }
        },
        {
          "output_type": "display_data",
          "data": {
            "image/png": "[encoded data removed]",
            "text/plain": [
              "<Figure size 360x360 with 1 Axes>"
            ]
          },
          "metadata": {
            "tags": []
          }
        }
      ]
    },
    {
      "cell_type": "markdown",
      "metadata": {
        "id": "Dq2jkLgRCzmb"
      },
      "source": [
        "It is important to notice that any tweets with at least one user mention, has at least one retweet. Second, it is important to notice that the vast majority of tweets without any user mention, has 0 retweets. So this columns is correlated with the number of retweets. So we leave this column intact."
      ]
    },
    {
      "cell_type": "markdown",
      "metadata": {
        "id": "a2seAHcG3MsU"
      },
      "source": [
        "## urls visualization"
      ]
    },
    {
      "cell_type": "code",
      "metadata": {
        "colab": {
          "base_uri": "https://localhost:8080/",
          "height": 779
        },
        "id": "LpHaG0hQ3MsW",
        "outputId": "8b3b1bc4-5cac-41ab-f74e-9f357e44c576"
      },
      "source": [
        "sns.catplot(x=\"retweet_count_interval\", y=\"urls\", data=train_df)\n",
        "plt.title(\"retweet interval and urls count\")\n",
        "plt.ylabel(\"urls count\")\n",
        "plt.xlabel(\"retweet interval\")\n",
        "plt.show()\n",
        "\n",
        "sns.catplot(x=[0,1,2,3,4,5,6,7,8,9], y=\"urls\", kind=\"bar\", data=df_group_cat)\n",
        "plt.title(\"Average number of urls par interval\")\n",
        "plt.ylabel(\"Average urls count\")\n",
        "plt.xlabel(\"retweet interval\")\n",
        "plt.show()"
      ],
      "execution_count": null,
      "outputs": [
        {
          "output_type": "display_data",
          "data": {
            "image/png": "[encoded data removed]",
            "text/plain": [
              "<Figure size 360x360 with 1 Axes>"
            ]
          },
          "metadata": {
            "tags": []
          }
        },
        {
          "output_type": "display_data",
          "data": {
            "image/png": "[encoded data removed]",
            "text/plain": [
              "<Figure size 360x360 with 1 Axes>"
            ]
          },
          "metadata": {
            "tags": []
          }
        }
      ]
    },
    {
      "cell_type": "markdown",
      "metadata": {
        "id": "cQpa4iUdDkf_"
      },
      "source": [
        "It is really similar to the user mention, any tweet that has at least one url, it has at least one retweet. It is an important column, and we use it intact."
      ]
    },
    {
      "cell_type": "markdown",
      "metadata": {
        "id": "sjN_Gm7H3MsW"
      },
      "source": [
        "## Hashtags count visualization"
      ]
    },
    {
      "cell_type": "code",
      "metadata": {
        "colab": {
          "base_uri": "https://localhost:8080/",
          "height": 779
        },
        "id": "weHAj_o03MsX",
        "outputId": "788bc086-6b63-4a8c-9c03-7ea0f0fb0bf7"
      },
      "source": [
        "sns.catplot(x=\"retweet_count_interval\", y=\"hashtags\", data=train_df)\n",
        "plt.title(\"retweet interval and hashtags count\")\n",
        "plt.ylabel(\"hashtags count\")\n",
        "plt.xlabel(\"retweet interval\")\n",
        "plt.show()\n",
        "\n",
        "sns.catplot(x=[0,1,2,3,4,5,6,7,8,9], y=\"hashtags\", kind=\"bar\", data=df_group_cat)\n",
        "plt.title(\"Average number of hashtags par interval\")\n",
        "plt.ylabel(\"Average hashtags count\")\n",
        "plt.xlabel(\"retweet interval\")\n",
        "plt.show()"
      ],
      "execution_count": null,
      "outputs": [
        {
          "output_type": "display_data",
          "data": {
            "image/png": "[encoded data removed]",
            "text/plain": [
              "<Figure size 360x360 with 1 Axes>"
            ]
          },
          "metadata": {
            "tags": []
          }
        },
        {
          "output_type": "display_data",
          "data": {
            "image/png": "[encoded data removed]",
            "text/plain": [
              "<Figure size 360x360 with 1 Axes>"
            ]
          },
          "metadata": {
            "tags": []
          }
        }
      ]
    },
    {
      "cell_type": "markdown",
      "metadata": {
        "id": "spmgjYWcD9IV"
      },
      "source": [
        "Similar to use_mention and urls, if it has at least one hashtag, so it has at least one retweet. It is important to see that these three columns decreases at the same rate."
      ]
    },
    {
      "cell_type": "markdown",
      "metadata": {
        "id": "Iy4r-CaOEPlv"
      },
      "source": [
        "## Correlation between urls, hashtags count and user_mentions"
      ]
    },
    {
      "cell_type": "code",
      "metadata": {
        "colab": {
          "base_uri": "https://localhost:8080/",
          "height": 142
        },
        "id": "6kh18n0RETmV",
        "outputId": "665f3cd7-f4ab-4379-bcf8-c63f30b7ba61"
      },
      "source": [
        "numerical_vis = train_df[[\"urls\", \"hashtags\", \"user_mentions\"]]\n",
        "numerical_vis.corr()"
      ],
      "execution_count": null,
      "outputs": [
        {
          "output_type": "execute_result",
          "data": {
            "text/html": [
              "<div>\n",
              "<style scoped>\n",
              "    .dataframe tbody tr th:only-of-type {\n",
              "        vertical-align: middle;\n",
              "    }\n",
              "\n",
              "    .dataframe tbody tr th {\n",
              "        vertical-align: top;\n",
              "    }\n",
              "\n",
              "    .dataframe thead th {\n",
              "        text-align: right;\n",
              "    }\n",
              "</style>\n",
              "<table border=\"1\" class=\"dataframe\">\n",
              "  <thead>\n",
              "    <tr style=\"text-align: right;\">\n",
              "      <th></th>\n",
              "      <th>urls</th>\n",
              "      <th>hashtags</th>\n",
              "      <th>user_mentions</th>\n",
              "    </tr>\n",
              "  </thead>\n",
              "  <tbody>\n",
              "    <tr>\n",
              "      <th>urls</th>\n",
              "      <td>1.000000</td>\n",
              "      <td>0.327450</td>\n",
              "      <td>0.290947</td>\n",
              "    </tr>\n",
              "    <tr>\n",
              "      <th>hashtags</th>\n",
              "      <td>0.327450</td>\n",
              "      <td>1.000000</td>\n",
              "      <td>0.096302</td>\n",
              "    </tr>\n",
              "    <tr>\n",
              "      <th>user_mentions</th>\n",
              "      <td>0.290947</td>\n",
              "      <td>0.096302</td>\n",
              "      <td>1.000000</td>\n",
              "    </tr>\n",
              "  </tbody>\n",
              "</table>\n",
              "</div>"
            ],
            "text/plain": [
              "                   urls  hashtags  user_mentions\n",
              "urls           1.000000  0.327450       0.290947\n",
              "hashtags       0.327450  1.000000       0.096302\n",
              "user_mentions  0.290947  0.096302       1.000000"
            ]
          },
          "metadata": {
            "tags": []
          },
          "execution_count": 26
        }
      ]
    },
    {
      "cell_type": "markdown",
      "metadata": {
        "id": "8HcKufKeEgBG"
      },
      "source": [
        "There is a huge correlaton between the number of urls and hashtags, and the number of urls and user_mentions. But the correlation between user_mentions and hashtags is small."
      ]
    },
    {
      "cell_type": "markdown",
      "metadata": {
        "id": "F8QhJaljEss0"
      },
      "source": [
        "## Correlation between numerical features"
      ]
    },
    {
      "cell_type": "code",
      "metadata": {
        "colab": {
          "base_uri": "https://localhost:8080/",
          "height": 173
        },
        "id": "J67tXhEsEyoY",
        "outputId": "c572bc48-fae2-4f23-ef32-3242728aed0b"
      },
      "source": [
        "numerical_vis = train_df[[\"user_statuses_count\", \"user_followers_count\", \"user_friends_count\", \"retweet_count\"]]\n",
        "numerical_vis.corr()"
      ],
      "execution_count": null,
      "outputs": [
        {
          "output_type": "execute_result",
          "data": {
            "text/html": [
              "<div>\n",
              "<style scoped>\n",
              "    .dataframe tbody tr th:only-of-type {\n",
              "        vertical-align: middle;\n",
              "    }\n",
              "\n",
              "    .dataframe tbody tr th {\n",
              "        vertical-align: top;\n",
              "    }\n",
              "\n",
              "    .dataframe thead th {\n",
              "        text-align: right;\n",
              "    }\n",
              "</style>\n",
              "<table border=\"1\" class=\"dataframe\">\n",
              "  <thead>\n",
              "    <tr style=\"text-align: right;\">\n",
              "      <th></th>\n",
              "      <th>user_statuses_count</th>\n",
              "      <th>user_followers_count</th>\n",
              "      <th>user_friends_count</th>\n",
              "      <th>retweet_count</th>\n",
              "    </tr>\n",
              "  </thead>\n",
              "  <tbody>\n",
              "    <tr>\n",
              "      <th>user_statuses_count</th>\n",
              "      <td>1.000000</td>\n",
              "      <td>0.172699</td>\n",
              "      <td>0.150665</td>\n",
              "      <td>0.001605</td>\n",
              "    </tr>\n",
              "    <tr>\n",
              "      <th>user_followers_count</th>\n",
              "      <td>0.172699</td>\n",
              "      <td>1.000000</td>\n",
              "      <td>0.060272</td>\n",
              "      <td>0.132853</td>\n",
              "    </tr>\n",
              "    <tr>\n",
              "      <th>user_friends_count</th>\n",
              "      <td>0.150665</td>\n",
              "      <td>0.060272</td>\n",
              "      <td>1.000000</td>\n",
              "      <td>0.025327</td>\n",
              "    </tr>\n",
              "    <tr>\n",
              "      <th>retweet_count</th>\n",
              "      <td>0.001605</td>\n",
              "      <td>0.132853</td>\n",
              "      <td>0.025327</td>\n",
              "      <td>1.000000</td>\n",
              "    </tr>\n",
              "  </tbody>\n",
              "</table>\n",
              "</div>"
            ],
            "text/plain": [
              "                      user_statuses_count  ...  retweet_count\n",
              "user_statuses_count              1.000000  ...       0.001605\n",
              "user_followers_count             0.172699  ...       0.132853\n",
              "user_friends_count               0.150665  ...       0.025327\n",
              "retweet_count                    0.001605  ...       1.000000\n",
              "\n",
              "[4 rows x 4 columns]"
            ]
          },
          "metadata": {
            "tags": []
          },
          "execution_count": 27
        }
      ]
    },
    {
      "cell_type": "markdown",
      "metadata": {
        "id": "UC7jLlQlEyIE"
      },
      "source": [
        "As expected, there is a small correlation between the number of retweets and the number of followers count, but there is no correlation between other parameters. So, to use these variables, it is important to use a non-linear method, like Neural Network or Random Forest, because there is no simple relation between them."
      ]
    },
    {
      "cell_type": "markdown",
      "metadata": {
        "id": "9XJYtFfeMqsT"
      },
      "source": [
        "# Data preparation"
      ]
    },
    {
      "cell_type": "code",
      "metadata": {
        "id": "uyGPhqNtMqf0"
      },
      "source": [
        "# Remove interval time columns\n",
        "train_df.drop(columns=['{} - {}'.format(i, i + 1) for i in range(24)], inplace=True)\n",
        "eval_df.drop(columns=['{} - {}'.format(i, i + 1) for i in range(24)], inplace=True)"
      ],
      "execution_count": null,
      "outputs": []
    },
    {
      "cell_type": "code",
      "metadata": {
        "id": "9Yxnh9VBNGSz"
      },
      "source": [
        "# Remove retweet_count_interval\n",
        "train_df.drop(columns=['retweet_count_interval'], inplace=True)"
      ],
      "execution_count": null,
      "outputs": []
    },
    {
      "cell_type": "markdown",
      "metadata": {
        "id": "WNWl7EDQM6OO"
      },
      "source": [
        "# Check our dataframes"
      ]
    },
    {
      "cell_type": "code",
      "metadata": {
        "colab": {
          "base_uri": "https://localhost:8080/",
          "height": 284
        },
        "id": "wGPZ7LUrCOUh",
        "outputId": "d56e88cc-c71a-414a-d6fc-27468f24bc26"
      },
      "source": [
        "train_df.head()"
      ],
      "execution_count": null,
      "outputs": [
        {
          "output_type": "execute_result",
          "data": {
            "text/html": [
              "<div>\n",
              "<style scoped>\n",
              "    .dataframe tbody tr th:only-of-type {\n",
              "        vertical-align: middle;\n",
              "    }\n",
              "\n",
              "    .dataframe tbody tr th {\n",
              "        vertical-align: top;\n",
              "    }\n",
              "\n",
              "    .dataframe thead th {\n",
              "        text-align: right;\n",
              "    }\n",
              "</style>\n",
              "<table border=\"1\" class=\"dataframe\">\n",
              "  <thead>\n",
              "    <tr style=\"text-align: right;\">\n",
              "      <th></th>\n",
              "      <th>retweet_count</th>\n",
              "      <th>user_verified</th>\n",
              "      <th>user_statuses_count</th>\n",
              "      <th>user_followers_count</th>\n",
              "      <th>user_friends_count</th>\n",
              "      <th>user_mentions</th>\n",
              "      <th>urls</th>\n",
              "      <th>hashtags</th>\n",
              "      <th>week_day_0</th>\n",
              "      <th>week_day_1</th>\n",
              "      <th>week_day_3</th>\n",
              "      <th>week_day_4</th>\n",
              "      <th>week_day_5</th>\n",
              "      <th>week_day_6</th>\n",
              "      <th>hashtags_0</th>\n",
              "      <th>hashtags_1</th>\n",
              "      <th>hashtags_2</th>\n",
              "      <th>hashtags_3</th>\n",
              "      <th>hashtags_4</th>\n",
              "      <th>hashtags_5</th>\n",
              "      <th>hashtags_6</th>\n",
              "      <th>hashtags_7</th>\n",
              "      <th>hashtags_8</th>\n",
              "      <th>hashtags_9</th>\n",
              "      <th>hashtags_10</th>\n",
              "      <th>hashtags_11</th>\n",
              "      <th>hashtags_12</th>\n",
              "      <th>hashtags_13</th>\n",
              "      <th>hashtags_14</th>\n",
              "      <th>hashtags_15</th>\n",
              "      <th>hashtags_16</th>\n",
              "      <th>hashtags_17</th>\n",
              "      <th>hashtags_18</th>\n",
              "      <th>hashtags_19</th>\n",
              "      <th>hashtags_20</th>\n",
              "      <th>hashtags_21</th>\n",
              "      <th>hashtags_22</th>\n",
              "      <th>hashtags_23</th>\n",
              "      <th>hashtags_24</th>\n",
              "      <th>hashtags_25</th>\n",
              "      <th>...</th>\n",
              "      <th>text_26</th>\n",
              "      <th>text_27</th>\n",
              "      <th>text_28</th>\n",
              "      <th>text_29</th>\n",
              "      <th>text_30</th>\n",
              "      <th>text_31</th>\n",
              "      <th>text_32</th>\n",
              "      <th>text_33</th>\n",
              "      <th>text_34</th>\n",
              "      <th>text_35</th>\n",
              "      <th>text_36</th>\n",
              "      <th>text_37</th>\n",
              "      <th>text_38</th>\n",
              "      <th>text_39</th>\n",
              "      <th>text_40</th>\n",
              "      <th>text_41</th>\n",
              "      <th>text_42</th>\n",
              "      <th>text_43</th>\n",
              "      <th>text_44</th>\n",
              "      <th>text_45</th>\n",
              "      <th>text_46</th>\n",
              "      <th>text_47</th>\n",
              "      <th>text_48</th>\n",
              "      <th>text_49</th>\n",
              "      <th>text_50</th>\n",
              "      <th>text_51</th>\n",
              "      <th>text_52</th>\n",
              "      <th>text_53</th>\n",
              "      <th>text_54</th>\n",
              "      <th>text_55</th>\n",
              "      <th>text_56</th>\n",
              "      <th>text_57</th>\n",
              "      <th>text_58</th>\n",
              "      <th>text_59</th>\n",
              "      <th>text_60</th>\n",
              "      <th>text_61</th>\n",
              "      <th>text_62</th>\n",
              "      <th>text_63</th>\n",
              "      <th>text_64</th>\n",
              "      <th>text_65</th>\n",
              "    </tr>\n",
              "    <tr>\n",
              "      <th>id</th>\n",
              "      <th></th>\n",
              "      <th></th>\n",
              "      <th></th>\n",
              "      <th></th>\n",
              "      <th></th>\n",
              "      <th></th>\n",
              "      <th></th>\n",
              "      <th></th>\n",
              "      <th></th>\n",
              "      <th></th>\n",
              "      <th></th>\n",
              "      <th></th>\n",
              "      <th></th>\n",
              "      <th></th>\n",
              "      <th></th>\n",
              "      <th></th>\n",
              "      <th></th>\n",
              "      <th></th>\n",
              "      <th></th>\n",
              "      <th></th>\n",
              "      <th></th>\n",
              "      <th></th>\n",
              "      <th></th>\n",
              "      <th></th>\n",
              "      <th></th>\n",
              "      <th></th>\n",
              "      <th></th>\n",
              "      <th></th>\n",
              "      <th></th>\n",
              "      <th></th>\n",
              "      <th></th>\n",
              "      <th></th>\n",
              "      <th></th>\n",
              "      <th></th>\n",
              "      <th></th>\n",
              "      <th></th>\n",
              "      <th></th>\n",
              "      <th></th>\n",
              "      <th></th>\n",
              "      <th></th>\n",
              "      <th></th>\n",
              "      <th></th>\n",
              "      <th></th>\n",
              "      <th></th>\n",
              "      <th></th>\n",
              "      <th></th>\n",
              "      <th></th>\n",
              "      <th></th>\n",
              "      <th></th>\n",
              "      <th></th>\n",
              "      <th></th>\n",
              "      <th></th>\n",
              "      <th></th>\n",
              "      <th></th>\n",
              "      <th></th>\n",
              "      <th></th>\n",
              "      <th></th>\n",
              "      <th></th>\n",
              "      <th></th>\n",
              "      <th></th>\n",
              "      <th></th>\n",
              "      <th></th>\n",
              "      <th></th>\n",
              "      <th></th>\n",
              "      <th></th>\n",
              "      <th></th>\n",
              "      <th></th>\n",
              "      <th></th>\n",
              "      <th></th>\n",
              "      <th></th>\n",
              "      <th></th>\n",
              "      <th></th>\n",
              "      <th></th>\n",
              "      <th></th>\n",
              "      <th></th>\n",
              "      <th></th>\n",
              "      <th></th>\n",
              "      <th></th>\n",
              "      <th></th>\n",
              "      <th></th>\n",
              "      <th></th>\n",
              "    </tr>\n",
              "  </thead>\n",
              "  <tbody>\n",
              "    <tr>\n",
              "      <th>0</th>\n",
              "      <td>0</td>\n",
              "      <td>0</td>\n",
              "      <td>68460</td>\n",
              "      <td>1101</td>\n",
              "      <td>1226</td>\n",
              "      <td>0</td>\n",
              "      <td>0</td>\n",
              "      <td>0</td>\n",
              "      <td>0</td>\n",
              "      <td>1</td>\n",
              "      <td>0</td>\n",
              "      <td>0</td>\n",
              "      <td>0</td>\n",
              "      <td>0</td>\n",
              "      <td>-0.040354</td>\n",
              "      <td>-0.014785</td>\n",
              "      <td>-0.001365</td>\n",
              "      <td>-0.000772</td>\n",
              "      <td>-0.000864</td>\n",
              "      <td>-0.000387</td>\n",
              "      <td>-0.001023</td>\n",
              "      <td>-0.00074</td>\n",
              "      <td>-0.000616</td>\n",
              "      <td>-0.000667</td>\n",
              "      <td>-0.000194</td>\n",
              "      <td>-0.000355</td>\n",
              "      <td>-0.000328</td>\n",
              "      <td>-0.000491</td>\n",
              "      <td>-0.00015</td>\n",
              "      <td>-0.000191</td>\n",
              "      <td>-0.00008</td>\n",
              "      <td>-0.000317</td>\n",
              "      <td>-0.000376</td>\n",
              "      <td>-0.000101</td>\n",
              "      <td>-0.000207</td>\n",
              "      <td>-0.000199</td>\n",
              "      <td>-0.000217</td>\n",
              "      <td>-0.000074</td>\n",
              "      <td>-0.000282</td>\n",
              "      <td>-0.000186</td>\n",
              "      <td>...</td>\n",
              "      <td>0.009476</td>\n",
              "      <td>-0.011753</td>\n",
              "      <td>-0.011375</td>\n",
              "      <td>-0.008842</td>\n",
              "      <td>-0.009958</td>\n",
              "      <td>-0.008726</td>\n",
              "      <td>-0.005279</td>\n",
              "      <td>-0.013317</td>\n",
              "      <td>-0.011077</td>\n",
              "      <td>-0.005578</td>\n",
              "      <td>-0.012113</td>\n",
              "      <td>-0.001622</td>\n",
              "      <td>-0.005128</td>\n",
              "      <td>-0.002018</td>\n",
              "      <td>-0.012413</td>\n",
              "      <td>-0.007426</td>\n",
              "      <td>-0.004699</td>\n",
              "      <td>0.000793</td>\n",
              "      <td>-0.002177</td>\n",
              "      <td>-0.003072</td>\n",
              "      <td>-0.006293</td>\n",
              "      <td>-0.000257</td>\n",
              "      <td>-0.020515</td>\n",
              "      <td>0.003980</td>\n",
              "      <td>-0.016606</td>\n",
              "      <td>-0.011038</td>\n",
              "      <td>-0.016869</td>\n",
              "      <td>-0.003230</td>\n",
              "      <td>0.006180</td>\n",
              "      <td>-0.000136</td>\n",
              "      <td>0.010043</td>\n",
              "      <td>0.005338</td>\n",
              "      <td>0.002906</td>\n",
              "      <td>-0.017457</td>\n",
              "      <td>0.002959</td>\n",
              "      <td>-0.009677</td>\n",
              "      <td>-0.025693</td>\n",
              "      <td>-0.008289</td>\n",
              "      <td>0.011753</td>\n",
              "      <td>0.004606</td>\n",
              "    </tr>\n",
              "    <tr>\n",
              "      <th>1</th>\n",
              "      <td>0</td>\n",
              "      <td>0</td>\n",
              "      <td>309</td>\n",
              "      <td>51</td>\n",
              "      <td>202</td>\n",
              "      <td>0</td>\n",
              "      <td>0</td>\n",
              "      <td>0</td>\n",
              "      <td>0</td>\n",
              "      <td>0</td>\n",
              "      <td>0</td>\n",
              "      <td>0</td>\n",
              "      <td>0</td>\n",
              "      <td>1</td>\n",
              "      <td>-0.040354</td>\n",
              "      <td>-0.014785</td>\n",
              "      <td>-0.001365</td>\n",
              "      <td>-0.000772</td>\n",
              "      <td>-0.000864</td>\n",
              "      <td>-0.000387</td>\n",
              "      <td>-0.001023</td>\n",
              "      <td>-0.00074</td>\n",
              "      <td>-0.000616</td>\n",
              "      <td>-0.000667</td>\n",
              "      <td>-0.000194</td>\n",
              "      <td>-0.000355</td>\n",
              "      <td>-0.000328</td>\n",
              "      <td>-0.000491</td>\n",
              "      <td>-0.00015</td>\n",
              "      <td>-0.000191</td>\n",
              "      <td>-0.00008</td>\n",
              "      <td>-0.000317</td>\n",
              "      <td>-0.000376</td>\n",
              "      <td>-0.000101</td>\n",
              "      <td>-0.000207</td>\n",
              "      <td>-0.000199</td>\n",
              "      <td>-0.000217</td>\n",
              "      <td>-0.000074</td>\n",
              "      <td>-0.000282</td>\n",
              "      <td>-0.000186</td>\n",
              "      <td>...</td>\n",
              "      <td>0.036800</td>\n",
              "      <td>-0.082433</td>\n",
              "      <td>-0.135507</td>\n",
              "      <td>0.006879</td>\n",
              "      <td>-0.224659</td>\n",
              "      <td>-0.161147</td>\n",
              "      <td>0.836368</td>\n",
              "      <td>0.299573</td>\n",
              "      <td>0.157662</td>\n",
              "      <td>0.054069</td>\n",
              "      <td>0.144431</td>\n",
              "      <td>0.049991</td>\n",
              "      <td>0.035874</td>\n",
              "      <td>0.022680</td>\n",
              "      <td>-0.068374</td>\n",
              "      <td>0.025596</td>\n",
              "      <td>-0.000134</td>\n",
              "      <td>-0.008212</td>\n",
              "      <td>0.010175</td>\n",
              "      <td>-0.023564</td>\n",
              "      <td>0.024464</td>\n",
              "      <td>0.026747</td>\n",
              "      <td>-0.003071</td>\n",
              "      <td>-0.001869</td>\n",
              "      <td>0.000309</td>\n",
              "      <td>0.013244</td>\n",
              "      <td>0.021462</td>\n",
              "      <td>0.001149</td>\n",
              "      <td>0.000445</td>\n",
              "      <td>-0.004269</td>\n",
              "      <td>-0.005551</td>\n",
              "      <td>-0.004878</td>\n",
              "      <td>0.014789</td>\n",
              "      <td>-0.020960</td>\n",
              "      <td>-0.011964</td>\n",
              "      <td>-0.000856</td>\n",
              "      <td>-0.001897</td>\n",
              "      <td>-0.007701</td>\n",
              "      <td>-0.003036</td>\n",
              "      <td>-0.016527</td>\n",
              "    </tr>\n",
              "    <tr>\n",
              "      <th>2</th>\n",
              "      <td>0</td>\n",
              "      <td>0</td>\n",
              "      <td>3241</td>\n",
              "      <td>1675</td>\n",
              "      <td>2325</td>\n",
              "      <td>0</td>\n",
              "      <td>0</td>\n",
              "      <td>0</td>\n",
              "      <td>1</td>\n",
              "      <td>0</td>\n",
              "      <td>0</td>\n",
              "      <td>0</td>\n",
              "      <td>0</td>\n",
              "      <td>0</td>\n",
              "      <td>-0.040354</td>\n",
              "      <td>-0.014785</td>\n",
              "      <td>-0.001365</td>\n",
              "      <td>-0.000772</td>\n",
              "      <td>-0.000864</td>\n",
              "      <td>-0.000387</td>\n",
              "      <td>-0.001023</td>\n",
              "      <td>-0.00074</td>\n",
              "      <td>-0.000616</td>\n",
              "      <td>-0.000667</td>\n",
              "      <td>-0.000194</td>\n",
              "      <td>-0.000355</td>\n",
              "      <td>-0.000328</td>\n",
              "      <td>-0.000491</td>\n",
              "      <td>-0.00015</td>\n",
              "      <td>-0.000191</td>\n",
              "      <td>-0.00008</td>\n",
              "      <td>-0.000317</td>\n",
              "      <td>-0.000376</td>\n",
              "      <td>-0.000101</td>\n",
              "      <td>-0.000207</td>\n",
              "      <td>-0.000199</td>\n",
              "      <td>-0.000217</td>\n",
              "      <td>-0.000074</td>\n",
              "      <td>-0.000282</td>\n",
              "      <td>-0.000186</td>\n",
              "      <td>...</td>\n",
              "      <td>-0.000713</td>\n",
              "      <td>-0.073696</td>\n",
              "      <td>0.026640</td>\n",
              "      <td>-0.035850</td>\n",
              "      <td>0.007268</td>\n",
              "      <td>0.003318</td>\n",
              "      <td>-0.040196</td>\n",
              "      <td>-0.021021</td>\n",
              "      <td>-0.014144</td>\n",
              "      <td>-0.011634</td>\n",
              "      <td>0.010115</td>\n",
              "      <td>0.038298</td>\n",
              "      <td>-0.039465</td>\n",
              "      <td>-0.080425</td>\n",
              "      <td>0.108553</td>\n",
              "      <td>0.011131</td>\n",
              "      <td>0.342936</td>\n",
              "      <td>0.095702</td>\n",
              "      <td>0.220696</td>\n",
              "      <td>-0.073659</td>\n",
              "      <td>0.153451</td>\n",
              "      <td>0.054673</td>\n",
              "      <td>0.026222</td>\n",
              "      <td>-0.041053</td>\n",
              "      <td>0.028731</td>\n",
              "      <td>0.022299</td>\n",
              "      <td>0.032932</td>\n",
              "      <td>0.025551</td>\n",
              "      <td>-0.010636</td>\n",
              "      <td>-0.000365</td>\n",
              "      <td>-0.006856</td>\n",
              "      <td>-0.009531</td>\n",
              "      <td>-0.004451</td>\n",
              "      <td>-0.016312</td>\n",
              "      <td>-0.018458</td>\n",
              "      <td>0.002321</td>\n",
              "      <td>0.012507</td>\n",
              "      <td>-0.014491</td>\n",
              "      <td>-0.001377</td>\n",
              "      <td>-0.026051</td>\n",
              "    </tr>\n",
              "    <tr>\n",
              "      <th>3</th>\n",
              "      <td>0</td>\n",
              "      <td>0</td>\n",
              "      <td>32327</td>\n",
              "      <td>667</td>\n",
              "      <td>304</td>\n",
              "      <td>0</td>\n",
              "      <td>0</td>\n",
              "      <td>0</td>\n",
              "      <td>0</td>\n",
              "      <td>0</td>\n",
              "      <td>0</td>\n",
              "      <td>0</td>\n",
              "      <td>1</td>\n",
              "      <td>0</td>\n",
              "      <td>-0.040354</td>\n",
              "      <td>-0.014785</td>\n",
              "      <td>-0.001365</td>\n",
              "      <td>-0.000772</td>\n",
              "      <td>-0.000864</td>\n",
              "      <td>-0.000387</td>\n",
              "      <td>-0.001023</td>\n",
              "      <td>-0.00074</td>\n",
              "      <td>-0.000616</td>\n",
              "      <td>-0.000667</td>\n",
              "      <td>-0.000194</td>\n",
              "      <td>-0.000355</td>\n",
              "      <td>-0.000328</td>\n",
              "      <td>-0.000491</td>\n",
              "      <td>-0.00015</td>\n",
              "      <td>-0.000191</td>\n",
              "      <td>-0.00008</td>\n",
              "      <td>-0.000317</td>\n",
              "      <td>-0.000376</td>\n",
              "      <td>-0.000101</td>\n",
              "      <td>-0.000207</td>\n",
              "      <td>-0.000199</td>\n",
              "      <td>-0.000217</td>\n",
              "      <td>-0.000074</td>\n",
              "      <td>-0.000282</td>\n",
              "      <td>-0.000186</td>\n",
              "      <td>...</td>\n",
              "      <td>0.007557</td>\n",
              "      <td>-0.002511</td>\n",
              "      <td>-0.007732</td>\n",
              "      <td>-0.012038</td>\n",
              "      <td>-0.023752</td>\n",
              "      <td>-0.008852</td>\n",
              "      <td>-0.016815</td>\n",
              "      <td>-0.011931</td>\n",
              "      <td>-0.008083</td>\n",
              "      <td>-0.000427</td>\n",
              "      <td>-0.052057</td>\n",
              "      <td>-0.018620</td>\n",
              "      <td>-0.003222</td>\n",
              "      <td>-0.018911</td>\n",
              "      <td>0.005444</td>\n",
              "      <td>-0.012375</td>\n",
              "      <td>0.009142</td>\n",
              "      <td>-0.012541</td>\n",
              "      <td>-0.027507</td>\n",
              "      <td>-0.006790</td>\n",
              "      <td>0.021459</td>\n",
              "      <td>0.019985</td>\n",
              "      <td>-0.019816</td>\n",
              "      <td>0.044621</td>\n",
              "      <td>-0.057463</td>\n",
              "      <td>-0.052015</td>\n",
              "      <td>-0.038575</td>\n",
              "      <td>0.030306</td>\n",
              "      <td>-0.021422</td>\n",
              "      <td>0.051964</td>\n",
              "      <td>0.114546</td>\n",
              "      <td>0.063406</td>\n",
              "      <td>0.105298</td>\n",
              "      <td>0.187889</td>\n",
              "      <td>0.290014</td>\n",
              "      <td>0.090218</td>\n",
              "      <td>-0.421248</td>\n",
              "      <td>0.123390</td>\n",
              "      <td>0.065532</td>\n",
              "      <td>-0.340366</td>\n",
              "    </tr>\n",
              "    <tr>\n",
              "      <th>4</th>\n",
              "      <td>0</td>\n",
              "      <td>0</td>\n",
              "      <td>581</td>\n",
              "      <td>42</td>\n",
              "      <td>127</td>\n",
              "      <td>0</td>\n",
              "      <td>0</td>\n",
              "      <td>0</td>\n",
              "      <td>1</td>\n",
              "      <td>0</td>\n",
              "      <td>0</td>\n",
              "      <td>0</td>\n",
              "      <td>0</td>\n",
              "      <td>0</td>\n",
              "      <td>-0.040354</td>\n",
              "      <td>-0.014785</td>\n",
              "      <td>-0.001365</td>\n",
              "      <td>-0.000772</td>\n",
              "      <td>-0.000864</td>\n",
              "      <td>-0.000387</td>\n",
              "      <td>-0.001023</td>\n",
              "      <td>-0.00074</td>\n",
              "      <td>-0.000616</td>\n",
              "      <td>-0.000667</td>\n",
              "      <td>-0.000194</td>\n",
              "      <td>-0.000355</td>\n",
              "      <td>-0.000328</td>\n",
              "      <td>-0.000491</td>\n",
              "      <td>-0.00015</td>\n",
              "      <td>-0.000191</td>\n",
              "      <td>-0.00008</td>\n",
              "      <td>-0.000317</td>\n",
              "      <td>-0.000376</td>\n",
              "      <td>-0.000101</td>\n",
              "      <td>-0.000207</td>\n",
              "      <td>-0.000199</td>\n",
              "      <td>-0.000217</td>\n",
              "      <td>-0.000074</td>\n",
              "      <td>-0.000282</td>\n",
              "      <td>-0.000186</td>\n",
              "      <td>...</td>\n",
              "      <td>-0.007175</td>\n",
              "      <td>0.099262</td>\n",
              "      <td>0.031562</td>\n",
              "      <td>0.034583</td>\n",
              "      <td>0.019564</td>\n",
              "      <td>-0.073767</td>\n",
              "      <td>0.003367</td>\n",
              "      <td>-0.080630</td>\n",
              "      <td>0.004088</td>\n",
              "      <td>0.009678</td>\n",
              "      <td>-0.017108</td>\n",
              "      <td>0.005371</td>\n",
              "      <td>0.015154</td>\n",
              "      <td>0.004431</td>\n",
              "      <td>-0.013962</td>\n",
              "      <td>-0.015524</td>\n",
              "      <td>0.000853</td>\n",
              "      <td>0.028491</td>\n",
              "      <td>-0.012202</td>\n",
              "      <td>-0.008140</td>\n",
              "      <td>0.017350</td>\n",
              "      <td>0.056053</td>\n",
              "      <td>-0.021819</td>\n",
              "      <td>0.013995</td>\n",
              "      <td>-0.062701</td>\n",
              "      <td>-0.037487</td>\n",
              "      <td>0.000854</td>\n",
              "      <td>-0.079779</td>\n",
              "      <td>-0.020055</td>\n",
              "      <td>-0.011432</td>\n",
              "      <td>0.054571</td>\n",
              "      <td>-0.019004</td>\n",
              "      <td>0.092546</td>\n",
              "      <td>-0.091713</td>\n",
              "      <td>-0.045423</td>\n",
              "      <td>-0.049780</td>\n",
              "      <td>-0.010809</td>\n",
              "      <td>0.021035</td>\n",
              "      <td>-0.029559</td>\n",
              "      <td>0.035782</td>\n",
              "    </tr>\n",
              "  </tbody>\n",
              "</table>\n",
              "<p>5 rows × 120 columns</p>\n",
              "</div>"
            ],
            "text/plain": [
              "    retweet_count  user_verified  ...   text_64   text_65\n",
              "id                                ...                    \n",
              "0               0              0  ...  0.011753  0.004606\n",
              "1               0              0  ... -0.003036 -0.016527\n",
              "2               0              0  ... -0.001377 -0.026051\n",
              "3               0              0  ...  0.065532 -0.340366\n",
              "4               0              0  ... -0.029559  0.035782\n",
              "\n",
              "[5 rows x 120 columns]"
            ]
          },
          "metadata": {
            "tags": []
          },
          "execution_count": 30
        }
      ]
    },
    {
      "cell_type": "code",
      "metadata": {
        "colab": {
          "base_uri": "https://localhost:8080/"
        },
        "id": "fHhbwqdBKNkg",
        "outputId": "650fd4d3-5265-45b0-ca8d-b8d3e052a963"
      },
      "source": [
        "# shapes\n",
        "print(train_df.shape)\n",
        "print(eval_df.shape)"
      ],
      "execution_count": null,
      "outputs": [
        {
          "output_type": "stream",
          "text": [
            "(665777, 120)\n",
            "(285334, 119)\n"
          ],
          "name": "stdout"
        }
      ]
    },
    {
      "cell_type": "markdown",
      "metadata": {
        "id": "RcTaTNHV9jKh"
      },
      "source": [
        "# Model"
      ]
    },
    {
      "cell_type": "markdown",
      "metadata": {
        "id": "Y5JtowijNOuu"
      },
      "source": [
        "## Neural Network\n",
        "\n",
        "* (119, 75, 30, 15, 5, 1)\n",
        "* ReLu activation function\n",
        "* L1 Loss\n",
        "* Normalization of our dataset\n",
        "* 20% of our dataset will be transform into a test dataset\n",
        "* Turn on CUDA device !!\n"
      ]
    },
    {
      "cell_type": "code",
      "metadata": {
        "id": "FkS0T09Q9jvQ"
      },
      "source": [
        "y = train_df['retweet_count'].to_numpy()\n",
        "X_df = train_df.drop(['retweet_count'], axis=1)\n",
        "X = X_df.to_numpy()\n",
        "X_train, X_test, y_train, y_test = train_test_split(X, y, test_size=0.2,random_state=42)\n",
        "\n",
        "X_eval = eval_df.to_numpy()"
      ],
      "execution_count": null,
      "outputs": []
    },
    {
      "cell_type": "code",
      "metadata": {
        "id": "CrE61OAzNh7p"
      },
      "source": [
        "# normalize our data\n",
        "scaler = StandardScaler()\n",
        "scaler.fit(X_train)\n",
        "X_train = scaler.transform(X_train)\n",
        "X_test = scaler.transform(X_test)\n",
        "X_eval = scaler.transform(X_eval)\n",
        "\n",
        "mean_y, std_y = np.mean(y_train), np.std(y_train)\n",
        "y_train = (y_train - mean_y) / std_y\n",
        "y_test = (y_test - mean_y) / std_y"
      ],
      "execution_count": null,
      "outputs": []
    },
    {
      "cell_type": "code",
      "metadata": {
        "id": "_oDPAQynNnPS"
      },
      "source": [
        "class Net(torch.nn.Module):\n",
        "    def __init__(self):\n",
        "        super(Net, self).__init__()\n",
        "        self.l1 = torch.nn.Linear(119, 70)\n",
        "        self.l2 = torch.nn.Linear(70, 35)\n",
        "        self.l3 = torch.nn.Linear(35, 15)\n",
        "        self.l4 = torch.nn.Linear(15, 5)\n",
        "        self.l5 = torch.nn.Linear(5, 1)\n",
        "\n",
        "    def forward(self, x):\n",
        "        x = F.relu(self.l1(x))\n",
        "        x = F.relu(self.l2(x))\n",
        "        x = F.relu(self.l3(x))\n",
        "        x = F.relu(self.l4(x))\n",
        "        x = self.l5(x)\n",
        "        x =  x * std_y + mean_y\n",
        "        return x\n",
        "  \n",
        "class TweetDataSet(Dataset):\n",
        "    def __init__(self, X, y, device, mode='Train'):                 \n",
        "      self.X = X\n",
        "      self.y = y\n",
        "      self.mode = mode\n",
        "      self.device = device\n",
        "\n",
        "    def __len__(self):\n",
        "      return len(self.X)\n",
        "    \n",
        "    def __getitem__(self, idx):\n",
        "      x_g = self.X[idx]\n",
        "      if self.mode == 'Train' or self.mode == \"Test\":\n",
        "        y_g = np.expand_dims(self.y[idx], axis=0)\n",
        "        return torch.from_numpy(x_g).type(torch.cuda.FloatTensor), torch.from_numpy(y_g).float().type(torch.cuda.FloatTensor)\n",
        "      else:\n",
        "        return torch.from_numpy(x_g).float().type(torch.cuda.FloatTensor), None"
      ],
      "execution_count": null,
      "outputs": []
    },
    {
      "cell_type": "code",
      "metadata": {
        "id": "U0vHem23Np6h"
      },
      "source": [
        "model = Net()\n",
        "model.cuda()\n",
        "optimizer = torch.optim.Adam(model.parameters())\n",
        "loss_func = torch.nn.L1Loss()\n",
        "scheduler = lr_scheduler.StepLR(optimizer, step_size=6, gamma=0.1)\n",
        "\n",
        "epochs = 20\n",
        "\n",
        "train_dataset = TweetDataSet(X_train, y_train, torch.device('cuda'))\n",
        "test_dataset = TweetDataSet(X_test, y_test, torch.device('cuda'))"
      ],
      "execution_count": null,
      "outputs": []
    },
    {
      "cell_type": "code",
      "metadata": {
        "id": "A2gSCB8ONuwj"
      },
      "source": [
        "def train_epoch(model, opt, loss_func, trainloader):\n",
        "  # Train each epoch\n",
        "  model.train()\n",
        "  losses = []\n",
        "  for x_batch, y_batch in tqdm(trainloader, total=len(trainloader)):\n",
        "      opt.zero_grad()\n",
        "      # Forward\n",
        "      y_comp = model(x_batch)\n",
        "      y_batch =  y_batch * std_y + mean_y\n",
        "      # Compute diff\n",
        "      loss = loss_func(y_comp.cpu(), y_batch.cpu())\n",
        "      # Compute gradients\n",
        "      loss.backward()\n",
        "      # update weights\n",
        "      opt.step()\n",
        "      losses.append(loss.data.numpy())\n",
        "  return losses\n",
        "\n",
        "def accuracy(model, testloader):\n",
        "  # Calculate the loss of our test_dataset\n",
        "  model.eval()\n",
        "  total = 0\n",
        "  div = 0\n",
        "  for x_batch, y_batch in tqdm(testloader, total=len(testloader)):\n",
        "      outputs = model(x_batch)\n",
        "      y_batch =  y_batch * std_y + mean_y\n",
        "      total += torch.abs(outputs - y_batch).sum().item()\n",
        "      div += outputs.size(0)\n",
        "  model.train()\n",
        "  return total / div\n",
        "\n",
        "def train(train_dataset, test_dataset, model, loss_func, opt, epochs, scheduler, bs=50):\n",
        "  # train the model\n",
        "  train_dataloader = torch.utils.data.DataLoader(train_dataset, batch_size=bs)\n",
        "  test_dataloader = torch.utils.data.DataLoader(test_dataset, batch_size=bs)\n",
        "  loss_train = []\n",
        "  loss_test = []\n",
        "  for i in range(epochs):\n",
        "    loss_train_epoch = train_epoch(model, opt, loss_func, train_dataloader)\n",
        "    loss_train.append(sum(loss_train_epoch)/(len(loss_train_epoch)))\n",
        "    print('epoch {}, loss train {}'.format(i + 1, sum(loss_train_epoch)/(len(loss_train_epoch))))\n",
        "    loss_test_epoch = accuracy(model, test_dataloader)\n",
        "    print('epoch {}, loss test {}'.format(i + 1, loss_test_epoch))\n",
        "    loss_test.append(loss_test_epoch)\n",
        "    scheduler.step()\n",
        "  return loss_train, loss_test"
      ],
      "execution_count": null,
      "outputs": []
    },
    {
      "cell_type": "code",
      "metadata": {
        "id": "admVU9jxNwYs"
      },
      "source": [
        "loss_train, loss_test = train(train_dataset, test_dataset, model, loss_func, optimizer, epochs, scheduler, bs=32)"
      ],
      "execution_count": null,
      "outputs": []
    },
    {
      "cell_type": "markdown",
      "metadata": {
        "id": "F9FsefAKN8RZ"
      },
      "source": [
        "# Evaluation"
      ]
    },
    {
      "cell_type": "code",
      "metadata": {
        "id": "-ToSaTPUN9ZS"
      },
      "source": [
        "model.eval()\n",
        "y_eval = model(torch.from_numpy(X_eval).type(torch.cuda.FloatTensor))\n",
        "y_eval = y_eval.cpu().detach().numpy()\n",
        "y_eval = y_eval.T[0]\n",
        "y_eval[y_eval < 0] = 0\n",
        "y_eval = y_eval.astype(int)"
      ],
      "execution_count": null,
      "outputs": []
    },
    {
      "cell_type": "code",
      "metadata": {
        "id": "95qbgPnVOBIa"
      },
      "source": [
        "import csv\n",
        "# Dump the results into a file that follows the required Kaggle template\n",
        "result = pd.DataFrame()\n",
        "result['TweetID'] = eval_df.index\n",
        "result['NoRetweets'] = y_eval\n",
        "with open(\"prediction_NN_(119_70_35_15_5_1).txt\", 'w') as f:\n",
        "    writer = csv.writer(f)\n",
        "    writer.writerow([\"TweetID\", \"NoRetweets\"])\n",
        "    for idx, row in result.iterrows():\n",
        "      id = str(row['TweetID'])\n",
        "      num =  str(int(row['NoRetweets']))\n",
        "      writer.writerow([id, num])"
      ],
      "execution_count": null,
      "outputs": []
    }
  ]
}